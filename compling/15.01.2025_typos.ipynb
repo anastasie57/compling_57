{
 "cells": [
  {
   "cell_type": "markdown",
   "metadata": {
    "id": "xUbUlXW1u7gN"
   },
   "source": [
    "# Опечатки: что с ними делать"
   ]
  },
  {
   "cell_type": "markdown",
   "metadata": {
    "id": "miG1SzhOu7gP"
   },
   "source": [
    "### Основные типы опечаток"
   ]
  },
  {
   "cell_type": "markdown",
   "metadata": {},
   "source": [
    "* замена буквы в слове на соседнюю по клавиатуре или случайную — «**gолоко**» вместо «**молоко**»;\n",
    "* добавление лишней буквы — «**молокео**»;\n",
    "* случайное удаление буквы — «**молоо**»;\n",
    "* перестановка двух соседних букв слова местами — «**млооко**»;\n",
    "* дублирование буквы в слове — «**ммолоко**»;\n",
    "* отсутствие необходимого пробела — «**пастеризованноемолоко**»;\n",
    "* двойной пробел — «**пастеризованное  молоко**»;\n",
    "* орфографические ошибки: «**а**» вместо «**о**», «**и**» вместо «**е**» и т. д.;\n",
    "* неверная раскладка — «**vjkjrj**» вместо «**молоко**»"
   ]
  },
  {
   "cell_type": "markdown",
   "metadata": {},
   "source": [
    "В целом исправление опечаток делится на \n",
    "+ **контекстно-независимое**   \n",
    "VS\n",
    "+ **контекстно-зависимое** (*то есть где учитывается контекст*)\n",
    "\n",
    "В первом случае ошибки исправляются для каждого слова по отдельности, во втором учитывается контекст (например, для фразы «она пошле домой» в контекстно-независимом случае исправление происходит для каждого слова в отдельности, где мы можем получить «она пошел домой», а во втором случае правильное исправление выдаст «она пошла домой»).\n",
    "\n",
    "> Пользователи совершают опечатки приблизительно в 10-15% случаях. При этом 83,6% запросов имеют одну ошибку, 11,7% – две, 4,8% – более трёх. Контекст важен в 26% случаев.  \n",
    "Эта статистика была составлена на основе случайной выборки из дневного лога Яндекса в далеком 2013 году на основе 10000 запросов. В открытом доступе есть гораздо более ранняя презентация от Яндекса за 2008 год, где показано похожее распределение статистики. Отсюда можно сделать вывод, что распределение разновидностей ошибок для поисковых запросов, в среднем, с течением времени не изменяется."
   ]
  },
  {
   "cell_type": "markdown",
   "metadata": {},
   "source": [
    "Если у нас ограниченный набор слов, можно использовать словарь опечаток с правильными словами, но это слишком сложно и нужна большая подготовка:\n",
    "1. лемматизировать все слова, например, из набора текстов\n",
    "2. сгенерировать ВСЕ варианты опечаток и соотнести их в словаре с правильным словом\n",
    "3. при добавлении новых слов, обязательно добавлять их в словарь"
   ]
  },
  {
   "cell_type": "markdown",
   "metadata": {},
   "source": [
    "В общем случае для исправления ошибок существует две модели: модель ошибок и языковая модель. Для контекстно-независимого исправления используется только модель ошибок, для зависимого — обе модели."
   ]
  },
  {
   "cell_type": "markdown",
   "metadata": {},
   "source": [
    "### Расстояние Левенштейна\n",
    "\n",
    "**Расстояние Левенштейна** — метрика cходства между двумя строковыми последовательностями. Чем больше расстояние, тем более различны строки. Для двух одинаковых последовательностей расстояние равно нулю. По сути, это минимальное число односимвольных преобразований (удаления, вставки или замены), необходимых, чтобы превратить одну последовательность в другую.\n",
    "\n",
    "|  | К | О | Т | И | К | |  \n",
    "|----------|----------|----------|----------|----------|----------|----------|\n",
    "| С | К | О | Т | И | Н | А |\n",
    "\n",
    "#### Какое расстояние?"
   ]
  },
  {
   "cell_type": "code",
   "execution_count": null,
   "metadata": {
    "vscode": {
     "languageId": "plaintext"
    }
   },
   "outputs": [],
   "source": [
    "def levenstein(str_1, str_2):\n",
    "    n, m = len(str_1), len(str_2)\n",
    "    if n > m:\n",
    "        str_1, str_2 = str_2, str_1\n",
    "        n, m = m, n\n",
    "\n",
    "    current_row = range(n + 1)\n",
    "    for i in range(1, m + 1):\n",
    "        previous_row, current_row = current_row, [i] + [0] * n\n",
    "        for j in range(1, n + 1):\n",
    "            add, delete, change = previous_row[j] + 1, current_row[j - 1] + 1, previous_row[j - 1]\n",
    "            if str_1[j - 1] != str_2[i - 1]:\n",
    "                change += 1\n",
    "            current_row[j] = min(add, delete, change)\n",
    "\n",
    "    return current_row[n]"
   ]
  },
  {
   "cell_type": "markdown",
   "metadata": {},
   "source": [
    "Можно оставлять стоимость каждой операции (замена, удаление, вставка) как единицу, можно делать для них разные веса.\n",
    "\n",
    "#### Какая сложность алгоритма?\n",
    "\n",
    "Можно не изобретать велосипед, и взять готовую реализацию:\n",
    "1. есть [библиотека на Python](https://pypi.org/project/python-Levenshtein/) (изначально написана на C)\n",
    "2. есть [метод в NLTK](https://www.nltk.org/_modules/nltk/metrics/distance.html)\n",
    "\n",
    "### Расстояние Левенштейна-Дамерау\n",
    "\n",
    "То же, но с учётом операции перестановки (транспозиции) символов."
   ]
  },
  {
   "cell_type": "code",
   "execution_count": null,
   "metadata": {
    "vscode": {
     "languageId": "plaintext"
    }
   },
   "outputs": [],
   "source": [
    "def damerau_levenshtein_distance(s1, s2):\n",
    "    d = {}\n",
    "    lenstr1 = len(s1)\n",
    "    lenstr2 = len(s2)\n",
    "    for i in range(-1,lenstr1+1):\n",
    "        d[(i,-1)] = i+1\n",
    "    for j in range(-1,lenstr2+1):\n",
    "        d[(-1,j)] = j+1\n",
    " \n",
    "    for i in range(lenstr1):\n",
    "        for j in range(lenstr2):\n",
    "            if s1[i] == s2[j]:\n",
    "                cost = 0\n",
    "            else:\n",
    "                cost = 1\n",
    "            d[(i,j)] = min(\n",
    "                           d[(i-1,j)] + 1, # deletion\n",
    "                           d[(i,j-1)] + 1, # insertion\n",
    "                           d[(i-1,j-1)] + cost, # substitution\n",
    "                          )\n",
    "            if i and j and s1[i] == s2[j-1] and s1[i-1] == s2[j]:\n",
    "                d[(i,j)] = min(d[(i,j)], d[i-2,j-2] + 1) # transposition\n",
    " \n",
    "    return d[lenstr1-1,lenstr2-1]"
   ]
  },
  {
   "cell_type": "markdown",
   "metadata": {},
   "source": [
    "При этом! Алгоритм круто работает, НЕ используя статистику по самым частотным опечаткам! Одновременно с этим модель Бриля-Мура, работающая на вероятностях перехода строки в строку, работает хуже, опираясь при этом на статистику."
   ]
  },
  {
   "cell_type": "markdown",
   "metadata": {},
   "source": [
    "### Алгоритм Питера Норвига\n",
    "\n",
    "Питер Норвиг описал простой вариант спеллчекера. Для каждого слова генерируются все возможные варианты изменений (удаления + вставки + замены + перестановки), рекурсивно с глубиной <= 2. Получившиеся слова проверяются на наличие в словаре (хеш-таблица), среди множества подошедших вариантов выбирается тот, который встречается чаще всего. \n",
    "Основные недостатки данного спеллчекер:  \n",
    "+ долго работает (особенно на длинных словах),\n",
    "+ не учитывается контекст\n",
    "\n",
    "Для начала собираем в словарь частотный словарь слов, а также добавляем функцию, считающую вероятность слов."
   ]
  },
  {
   "cell_type": "code",
   "execution_count": null,
   "metadata": {
    "vscode": {
     "languageId": "plaintext"
    }
   },
   "outputs": [],
   "source": [
    "import re\n",
    "from collections import Counter\n",
    "\n",
    "def words(text): \n",
    "    return re.findall(r'\\w+', text.lower())\n",
    "\n",
    "WORDS = Counter(words(open('big.txt').read()))\n",
    "\n",
    "def P(word, N=sum(WORDS.values())): \n",
    "    \"Probability of `word`.\"\n",
    "    return WORDS[word] / N"
   ]
  },
  {
   "cell_type": "markdown",
   "metadata": {},
   "source": [
    "Далее\n",
    "+ функции, генерирующие все возможные вариации слова\n",
    "+ функция, возвращаюся пересечение множества полученных вариаций и исходного списка слов"
   ]
  },
  {
   "cell_type": "code",
   "execution_count": null,
   "metadata": {
    "vscode": {
     "languageId": "plaintext"
    }
   },
   "outputs": [],
   "source": [
    "def known(words): \n",
    "    \"The subset of `words` that appear in the dictionary of WORDS.\"\n",
    "    return set(w for w in words if w in WORDS)\n",
    "\n",
    "def edits1(word):\n",
    "    \"All edits that are one edit away from `word`.\"\n",
    "    letters    = 'abcdefghijklmnopqrstuvwxyz'\n",
    "    splits     = [(word[:i], word[i:])    for i in range(len(word) + 1)]\n",
    "    deletes    = [L + R[1:]               for L, R in splits if R]\n",
    "    transposes = [L + R[1] + R[0] + R[2:] for L, R in splits if len(R)>1]\n",
    "    replaces   = [L + c + R[1:]           for L, R in splits if R for c in letters]\n",
    "    inserts    = [L + c + R               for L, R in splits for c in letters]\n",
    "    return set(deletes + transposes + replaces + inserts)\n",
    "\n",
    "def edits2(word): \n",
    "    \"All edits that are two edits away from `word`.\"\n",
    "    return (e2 for e1 in edits1(word) for e2 in edits1(e1))"
   ]
  },
  {
   "cell_type": "markdown",
   "metadata": {},
   "source": [
    "Наконец добавляем функции для генерации всех кандидатов, попадающих в пересечение с исходным списком слов, и для возвращения наиболее вероятного слова."
   ]
  },
  {
   "cell_type": "code",
   "execution_count": null,
   "metadata": {
    "vscode": {
     "languageId": "plaintext"
    }
   },
   "outputs": [],
   "source": [
    "def candidates(word): \n",
    "    \"Generate possible spelling corrections for word.\"\n",
    "    return (known([word]) or known(edits1(word)) or known(edits2(word)) or [word])\n",
    "\n",
    "def correction(word): \n",
    "    \"Most probable spelling correction for word.\"\n",
    "    return max(candidates(word), key=P)"
   ]
  },
  {
   "cell_type": "markdown",
   "metadata": {},
   "source": [
    "### SymSpell\n",
    "\n",
    "Один из вариантов ускорения производительности — алгоритм SymSpell, который, по заверению авторов, работает в миллион раз быстрее. SymSpell работает по следующему принципу: для каждого слова из словаря в отдельный индекс добавляются удаления, а точнее — все слова, получившиеся из исходного путём удаления одной или нескольких букв (обычно 1 и 2), со ссылкой на оригинальное слово. В момент поиска кандидатов для слова делаются аналогичные удаления и проверяется их наличие в индексе. Такой алгоритм корректно обрабатывает все случаи ошибок — замены букв, перестановки, добавления и удаления.  \n",
    "\n",
    "Для примера рассмотрим замену (в примере будем учитывать только расстояние 1). Пусть в оригинальном словаре содержится слово \"**тест**\". А мы набрали слово “**темт**”. В индексе будут находится все удаления слова “**тест**”, а именно: **ест, тст, тет, тес**. Для слова “**темт**” удаления будут: **емт, тмт, тет, емт**. Удаление “**тет**” содержится в индексе, значит слову с опечаткой “**темт**” соответствует слово “**тест**”."
   ]
  },
  {
   "attachments": {
    "image-2.png": {
     "image/png": "[encoded data removed]"
    },
    "image.png": {
     "image/png": "[encoded data removed]"
    }
   },
   "cell_type": "markdown",
   "metadata": {},
   "source": [
    "### Как оценить качество работы спеллчекеров?\n",
    "\n",
    "Основные метрики — **точность (precision)** и **полнота (recall)**.  \n",
    "\n",
    "**Полнота (recall)** рассчитывается следующим образом: список из правильных слов подается автокорректору (total_list_true), и, количество слов, которое автокорректор считает правильными (spellchecker_true), разделенное на общее количество правильных слов (total_list_true), будет считаться полнотой.\n",
    "\n",
    "![image.png](attachment:image.png)\n",
    "\n",
    "Для определения **точности (precision)** на вход автокорректора подается список из неправильных слов (total_list_false), и, количество слов, которое автокорректор считает неправильным (spell_checker_false), разделенное на общее количество неправильных слов (total_list_false), определяют как точность.\n",
    "\n",
    "![image-2.png](attachment:image-2.png)\n",
    "\n",
    "Фактически суть данной проверки сводится к тому, что проверяется вхождение слова в обучающий словарь. \n",
    "\n",
    "Возможно более наглядной метрикой может быть **правильность (correctness)**. Автокорректор для каждого слова из тестового множества неправильных слов формирует список кандидатов-замен, на которые можно исправить это неправильное слово (следует иметь в виду, что здесь могут оказаться слова, которые не содержатся в обучающем словаре). Допустим, размер такого списка кандидатов-замен равен 5. Исходя из того, что размер списка равен 5, будет сформировано 6 групп, в одну из которых мы будем помещать наше каждое исходное неправильное слово по следующему принципу: в 1-ую группу — если в списке кандидатов-замен предполагаемое нами правильное слово стоит 1-ым, во 2-ую если стоит 2-ым и т. д., а в последнюю группу — если предполагаемого правильного слова в списке кандидатов-замен не оказалось. Таким образом, чем больше слов попало в 1-ую группу и чем меньше в 6-ую, тем лучше работает автокорректор."
   ]
  },
  {
   "cell_type": "markdown",
   "metadata": {},
   "source": [
    "### JamSpell\n",
    "\n",
    "Быстрый производительный спелл-чекер, использующий обе модели: модель ошибок и языковую. \n",
    "\n",
    "Попробуйте скачать готовую обученную модель для [русского](https://github.com/bakwc/JamSpell-models/raw/master/ru.tar.gz) или [английского](https://github.com/bakwc/JamSpell-models/raw/master/en.tar.gz) языка и протестируйте её.\n",
    "Пример использования:"
   ]
  },
  {
   "cell_type": "code",
   "execution_count": null,
   "metadata": {
    "vscode": {
     "languageId": "plaintext"
    }
   },
   "outputs": [],
   "source": [
    "import jamspell\n",
    "\n",
    "corrector = jamspell.TSpellCorrector()\n",
    "corrector.LoadLangModel('model_en.bin')\n",
    "\n",
    "corrector.FixFragment('I am the begt spell cherken!')\n",
    "# u'I am the best spell checker!'\n",
    "\n",
    "corrector.GetCandidates(['i', 'am', 'the', 'begt', 'spell', 'cherken'], 3)\n",
    "# (u'best', u'beat', u'belt', u'bet', u'bent', ... )\n",
    "\n",
    "corrector.GetCandidates(['i', 'am', 'the', 'begt', 'spell', 'cherken'], 5)\n",
    "# (u'checker', u'chicken', u'checked', u'wherein', u'coherent', ...)"
   ]
  }
 ],
 "metadata": {
  "colab": {
   "collapsed_sections": [
    "pKKb7yKSu7gR",
    "LJJCmjSvu7gS",
    "wSJikXvFu7gS",
    "RBs50RS8u7gT",
    "-sZD-Lxnu7gU",
    "oUwfEAWxu7gW"
   ],
   "provenance": []
  },
  "kernelspec": {
   "display_name": "Python 3",
   "language": "python",
   "name": "python3"
  },
  "language_info": {
   "codemirror_mode": {
    "name": "ipython",
    "version": 3
   },
   "file_extension": ".py",
   "mimetype": "text/x-python",
   "name": "python",
   "nbconvert_exporter": "python",
   "pygments_lexer": "ipython3",
   "version": "3.6.5"
  }
 },
 "nbformat": 4,
 "nbformat_minor": 0
}
