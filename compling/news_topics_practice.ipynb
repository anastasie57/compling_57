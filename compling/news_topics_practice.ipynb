{
  "cells": [
    {
      "cell_type": "markdown",
      "metadata": {
        "id": "P1P7XetA18xJ"
      },
      "source": [
        "## Контрольное практическое задание\n",
        "\n",
        "В этом задании вам нужно будет проанализировать корпус новостных статей, размеченных по темам, а затем обучить несколько классификаторов и сравнить качество их работы. В конце нужно будет сгенерировать три статьи и определить тему статей с помощью лучшего классификатора."
      ]
    },
    {
      "cell_type": "code",
      "execution_count": null,
      "metadata": {
        "id": "iKEjL4iq18xK"
      },
      "outputs": [],
      "source": [
        "import pandas as pd\n",
        "# прочитаем csv-корпус и посмотрим на его содержимое\n",
        "df_news = pd.read_csv('news.csv')\n",
        "df_news.head()"
      ]
    },
    {
      "cell_type": "code",
      "execution_count": null,
      "metadata": {
        "id": "MLQZFRRM18xL"
      },
      "outputs": [],
      "source": [
        "pip install wordcloud"
      ]
    },
    {
      "cell_type": "code",
      "execution_count": null,
      "metadata": {
        "id": "lwEcc2Mj18xM"
      },
      "outputs": [],
      "source": [
        "from wordcloud import WordCloud\n",
        "import matplotlib.pyplot as plt"
      ]
    },
    {
      "cell_type": "code",
      "execution_count": null,
      "metadata": {
        "id": "HH9aGgWR18xM"
      },
      "outputs": [],
      "source": [
        "# если у вас возникнут проблемы со шрифтами, раскомментируйте нижние две строчки и обновите библиотеку Pillow\n",
        "# %pip install --upgrade pip\n",
        "# %pip install --upgrade Pillow"
      ]
    },
    {
      "cell_type": "markdown",
      "metadata": {
        "id": "QwmmCRvM18xM"
      },
      "source": [
        "### Задание 1\n",
        "Сначала напишите функции `str_corpus` (получение общей текстовой строки из списка слов) и `get_corpus` (получение списка всех слов в корпусе).    \n",
        "С помощью библиотеки `wordcloud` напишите функцию, генерирующую облако только значимых слов.    \n",
        "Затем постройте и отобразите\n",
        "- общее облако слов по всему корпусу\n",
        "- три облака слов по любым трём темам\n",
        "  \n",
        "на графике с помощью matplotlib."
      ]
    },
    {
      "cell_type": "code",
      "execution_count": null,
      "metadata": {
        "id": "oaqRMltX18xM"
      },
      "outputs": [],
      "source": [
        "# Получение текстовой строки из списка слов\n",
        "def str_corpus(corpus: list) -> str:\n",
        "    # ВАШ КОД\n",
        "    return str_corpus\n",
        "\n",
        "\n",
        "# Получение списка всех слов в корпусе\n",
        "def get_corpus(data: pd.DataFrame) -> list:\n",
        "    # ВАШ КОД\n",
        "    return corpus\n",
        "\n",
        "\n",
        "# Получение облака слов\n",
        "def get_wordCloud(corpus):\n",
        "    wordCloud = WordCloud(...).generate(...)\n",
        "    return wordCloud\n",
        "\n",
        "\n",
        "corpus = get_corpus(...)\n",
        "procWordCloud = get_wordCloud(corpus)\n",
        "\n",
        "fig = plt.figure(figsize=(20, 8))\n",
        "plt.subplot(1, 2, 1)\n",
        "plt.imshow(procWordCloud)\n",
        "plt.axis('off')\n",
        "plt.subplot(1, 2, 1)"
      ]
    },
    {
      "cell_type": "markdown",
      "metadata": {
        "id": "Gxj0QND-18xM"
      },
      "source": [
        "### Задание 2  \n",
        "\n",
        "В первой строке укажите данные для обучения на месте многоточий: первый аргумент — значения из колонки `text` из нашего датафрейма, второй аргумент — значения из колонки `rubric` нашего датафрейма.  \n",
        "Если у вас возникнет ошибка с неправильным типом данных используйте к выборке из датафрейма функцию `.astype('U')`."
      ]
    },
    {
      "cell_type": "code",
      "execution_count": null,
      "metadata": {
        "id": "OM6fz8Ek18xN"
      },
      "outputs": [],
      "source": [
        "from sklearn.model_selection import train_test_split\n",
        "\n",
        "X_train, X_valid, y_train, y_valid = train_test_split(..., ..., test_size=0.1, random_state=42)\n",
        "X_train, X_test, y_train, y_test = train_test_split(X_train, y_train, test_size=0.2, random_state=42)"
      ]
    },
    {
      "cell_type": "markdown",
      "metadata": {
        "id": "lq-5B07H18xN"
      },
      "source": [
        "### Задание 3  \n",
        "1. Обучите поочерёдно все 6 классификаторов, импортированных выше, на данных `X_train, y_train` с помощью функции `fit()`\n",
        "2. Предскажите темы для новостей из `X_test` с помощью функции `predict()`\n",
        "3. Выведите `classification_report` для каждого классификатора (сравните предсказанные темы с темами из `y_test`)\n",
        "4. Проанализируйте результаты и выберите лучший классификатор, приведя аргументы."
      ]
    },
    {
      "cell_type": "code",
      "execution_count": null,
      "metadata": {
        "id": "fRexYbPp18xN"
      },
      "outputs": [],
      "source": [
        "# pipeline позволяет объединить в один блок трансформер и модель, что упрощает написание кода и улучшает его читаемость\n",
        "from sklearn.pipeline import Pipeline\n",
        "\n",
        "# TfidfVectorizer преобразует тексты в числовые вектора, отражающие важность использования каждого слова из некоторого набора слов (количество слов набора определяет размерность вектора) в каждом тексте\n",
        "from sklearn.feature_extraction.text import TfidfVectorizer\n",
        "\n",
        "# разные классификаторы\n",
        "from sklearn.linear_model import LogisticRegression\n",
        "from sklearn.neighbors import KNeighborsClassifier\n",
        "from sklearn.tree import DecisionTreeClassifier\n",
        "from sklearn.linear_model import SGDClassifier\n",
        "from sklearn.naive_bayes import MultinomialNB\n",
        "from sklearn.ensemble import RandomForestClassifier\n",
        "\n",
        "# набор метрик для оценки качества модели\n",
        "from sklearn import metrics"
      ]
    },
    {
      "cell_type": "code",
      "execution_count": null,
      "metadata": {
        "id": "BdXczjPW18xN"
      },
      "outputs": [],
      "source": [
        "# Шаблон обучения классификатора\n",
        "# your_classifier = Pipeline([\n",
        "#     ('tfidf', объект векторайзера),\n",
        "#     ('clf', объект классификатора с настройками, если нужны])\n",
        "# your_classifier.fit(...)"
      ]
    },
    {
      "cell_type": "markdown",
      "metadata": {
        "id": "byOHbuOr18xN"
      },
      "source": [
        "### Задание 4  \n",
        "Сгенерируйте три новости на основе трёх облак слов из задания 1 с помощью ChatGPT, [бота в телеграме](https://t.me/gpt3_unlim_chatbot), https://chatgptchatapp.com/ или любой другой доступной нейросети (приложите их ниже) и проверьте, правильно ли ваш лучший классификатор определит их тему (результат также укажите ниже).  \n",
        "\n",
        "Можно использовать, например, следующий промпт:  \n",
        "*напиши короткую новость на основе облака самых частых слов*"
      ]
    }
  ],
  "metadata": {
    "colab": {
      "provenance": []
    },
    "kernelspec": {
      "display_name": "Python 3",
      "name": "python3"
    },
    "language_info": {
      "codemirror_mode": {
        "name": "ipython",
        "version": 3
      },
      "file_extension": ".py",
      "mimetype": "text/x-python",
      "name": "python",
      "nbconvert_exporter": "python",
      "pygments_lexer": "ipython3",
      "version": "3.7.0"
    }
  },
  "nbformat": 4,
  "nbformat_minor": 0
}